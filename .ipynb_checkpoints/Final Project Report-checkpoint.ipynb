{
 "cells": [
  {
   "cell_type": "markdown",
   "metadata": {},
   "source": [
    "<h1 align=\"center\">A Machine Learning Approach at Estimating Career Salaries</h1> \n",
    "<h2 align=\"center\">Yianni Mercer | DSC 478 Programming ML Apps</h2> \n",
    "<h2 align=\"center\">Final Project Report</h2> "
   ]
  },
  {
   "cell_type": "markdown",
   "metadata": {},
   "source": [
    "U.S. News presented a list of the [Top 100 Careers in 2021](https://money.usnews.com/careers/best-jobs/rankings/the-100-best-jobs), which featured many relatively new and exciting options like Data Scientist and Software Enginner, but also old-reliable one's like Accountant or Physician. This project aimed to find a relationship between the average salary of the *Top 50* Careers from the former list and numerous variables that would be found on a respective job posting. When these relationship were identified, we exploited the underlying patterns that drive salary in order to develop a regression model that can accurately predict the average salary of various career paths.  Upon arriving at an optimized, well performing model, we developed a web application that can ingest a user's inputted data, and return our model's average salary predicition. "
   ]
  },
  {
   "cell_type": "markdown",
   "metadata": {},
   "source": [
    "# Data Collection"
   ]
  },
  {
   "cell_type": "markdown",
   "metadata": {},
   "source": [
    "The top 50 careers according to U.S. News seemed to use a rather ambiguous method of ranking these careers.  However, the scope of our project was not concerned with the actual true ranking of these careers, especially considering the career choice can be such an opinionated matter.  Regardless, it is important to note we are utilizing the former list to drive our data collection process.  In other words, we ingested the first 50 *unique* careers (*unique* ~ in the matter of ties), and did no analysis of their ranking method.  \n",
    "\n",
    "## Web Scraping\n",
    "\n",
    "[Glassdoor.com](https://www.glassdoor.com/index.htm) is a worldwide leading platform for individuals to review companies and provide data regarding their experience and role at a company, and for companies to post job soliciations with the hope of hiring quality candidates.  Glasdoor offers unprecendented insights into the employee experience powered by millions of company ratings and reviews, CEO approval ratings, salary reports, interview reviews and questions, benefits reviews, and much more.  Utilzing [Selenium](https://www.selenium.dev/), and a [web scraper designed for glassdoor](https://github.com/arapfaik/scraping-glassdoor-selenium) from nearly three years ago, we were able to ingest nearly 50,000 records of data.  Specifically, we scraped 1,000 job postings for each of the careers in our list.  Below you can see the web scraping function being imported and called to scrape Glassdoor for five job postings that are related to the search term, 'Data Scientist'.  The function returns a pandas Data Frame that houses the five scraped job postings.  "
   ]
  },
  {
   "cell_type": "code",
   "execution_count": 28,
   "metadata": {},
   "outputs": [],
   "source": [
    "import os\n",
    "# Assuming your cwd is the career_salary_estimator root folder\n",
    "cwd = os.getcwd()\n",
    "os.chdir(cwd + '/data_collection')\n",
    "from glassdoor_web_scraper import get_jobs"
   ]
  },
  {
   "cell_type": "code",
   "execution_count": 7,
   "metadata": {},
   "outputs": [
    {
     "name": "stdout",
     "output_type": "stream",
     "text": [
      "Progress: 0/5\n",
      "Progress: 1/5\n",
      "Progress: 2/5\n",
      "Progress: 3/5\n",
      "Progress: 4/5\n",
      "Progress: 5/5\n"
     ]
    }
   ],
   "source": [
    "path = os.getcwd() + '/chromedriver'\n",
    "df = get_jobs(keyword = \"Data Scientist\",num_jobs=5,verbose = False, path = path,slp_time = 10)"
   ]
  },
  {
   "cell_type": "code",
   "execution_count": 8,
   "metadata": {},
   "outputs": [
    {
     "data": {
      "text/html": [
       "<div>\n",
       "<style scoped>\n",
       "    .dataframe tbody tr th:only-of-type {\n",
       "        vertical-align: middle;\n",
       "    }\n",
       "\n",
       "    .dataframe tbody tr th {\n",
       "        vertical-align: top;\n",
       "    }\n",
       "\n",
       "    .dataframe thead th {\n",
       "        text-align: right;\n",
       "    }\n",
       "</style>\n",
       "<table border=\"1\" class=\"dataframe\">\n",
       "  <thead>\n",
       "    <tr style=\"text-align: right;\">\n",
       "      <th></th>\n",
       "      <th>Job Title</th>\n",
       "      <th>Salary Estimate</th>\n",
       "      <th>Job Description</th>\n",
       "      <th>Rating</th>\n",
       "      <th>Company Name</th>\n",
       "      <th>Location</th>\n",
       "      <th>Size</th>\n",
       "      <th>Founded</th>\n",
       "      <th>Type of ownership</th>\n",
       "      <th>Industry</th>\n",
       "      <th>Sector</th>\n",
       "      <th>Revenue</th>\n",
       "    </tr>\n",
       "  </thead>\n",
       "  <tbody>\n",
       "    <tr>\n",
       "      <th>0</th>\n",
       "      <td>Data Scientist - U.S. Electricity Markets</td>\n",
       "      <td>$65K - $133K (Glassdoor est.)</td>\n",
       "      <td>Company Overview:\\nEdison Energy is the expert...</td>\n",
       "      <td>3.7</td>\n",
       "      <td>Edison Energy\\n3.7</td>\n",
       "      <td>Boston, MA</td>\n",
       "      <td>51 to 200 Employees</td>\n",
       "      <td>2013</td>\n",
       "      <td>Company - Private</td>\n",
       "      <td>Energy</td>\n",
       "      <td>Oil, Gas, Energy &amp; Utilities</td>\n",
       "      <td>Unknown / Non-Applicable</td>\n",
       "    </tr>\n",
       "    <tr>\n",
       "      <th>1</th>\n",
       "      <td>Data Scientist</td>\n",
       "      <td>$64K - $109K (Glassdoor est.)</td>\n",
       "      <td>Would you like to be part of an organization t...</td>\n",
       "      <td>4.3</td>\n",
       "      <td>Johns Hopkins Applied Physics Laboratory (APL)...</td>\n",
       "      <td>Offutt A F B, NE</td>\n",
       "      <td>5001 to 10000 Employees</td>\n",
       "      <td>1942</td>\n",
       "      <td>Nonprofit Organization</td>\n",
       "      <td>Aerospace &amp; Defense</td>\n",
       "      <td>Aerospace &amp; Defense</td>\n",
       "      <td>$1 to $2 billion (USD)</td>\n",
       "    </tr>\n",
       "    <tr>\n",
       "      <th>2</th>\n",
       "      <td>Data Scientist</td>\n",
       "      <td>$62K - $117K (Glassdoor est.)</td>\n",
       "      <td>What you’ll do:\\nDrive product decisions using...</td>\n",
       "      <td>3.3</td>\n",
       "      <td>RELX\\n3.3</td>\n",
       "      <td>Raleigh, NC</td>\n",
       "      <td>1001 to 5000 Employees</td>\n",
       "      <td>1968</td>\n",
       "      <td>Subsidiary or Business Segment</td>\n",
       "      <td>Advertising &amp; Marketing</td>\n",
       "      <td>Business Services</td>\n",
       "      <td>$1 to $2 billion (USD)</td>\n",
       "    </tr>\n",
       "    <tr>\n",
       "      <th>3</th>\n",
       "      <td>Data Scientist</td>\n",
       "      <td>-1</td>\n",
       "      <td>At Density, we build one of the most advanced ...</td>\n",
       "      <td>4.8</td>\n",
       "      <td>Density Inc.\\n4.8</td>\n",
       "      <td>Remote</td>\n",
       "      <td>1 to 50 Employees</td>\n",
       "      <td>2014</td>\n",
       "      <td>Company - Private</td>\n",
       "      <td>Internet</td>\n",
       "      <td>Information Technology</td>\n",
       "      <td>Unknown / Non-Applicable</td>\n",
       "    </tr>\n",
       "    <tr>\n",
       "      <th>4</th>\n",
       "      <td>Data Scientist</td>\n",
       "      <td>Employer Provided Salary:$35 - $75 Per Hour</td>\n",
       "      <td>MetLife Legal Plans is the leading consumer le...</td>\n",
       "      <td>-1</td>\n",
       "      <td>MetLife Legal Plans</td>\n",
       "      <td>Remote</td>\n",
       "      <td>-1</td>\n",
       "      <td>-1</td>\n",
       "      <td>-1</td>\n",
       "      <td>-1</td>\n",
       "      <td>-1</td>\n",
       "      <td>-1</td>\n",
       "    </tr>\n",
       "  </tbody>\n",
       "</table>\n",
       "</div>"
      ],
      "text/plain": [
       "                                   Job Title  \\\n",
       "0  Data Scientist - U.S. Electricity Markets   \n",
       "1                             Data Scientist   \n",
       "2                             Data Scientist   \n",
       "3                             Data Scientist   \n",
       "4                             Data Scientist   \n",
       "\n",
       "                               Salary Estimate  \\\n",
       "0                $65K - $133K (Glassdoor est.)   \n",
       "1                $64K - $109K (Glassdoor est.)   \n",
       "2                $62K - $117K (Glassdoor est.)   \n",
       "3                                           -1   \n",
       "4  Employer Provided Salary:$35 - $75 Per Hour   \n",
       "\n",
       "                                     Job Description Rating  \\\n",
       "0  Company Overview:\\nEdison Energy is the expert...    3.7   \n",
       "1  Would you like to be part of an organization t...    4.3   \n",
       "2  What you’ll do:\\nDrive product decisions using...    3.3   \n",
       "3  At Density, we build one of the most advanced ...    4.8   \n",
       "4  MetLife Legal Plans is the leading consumer le...     -1   \n",
       "\n",
       "                                        Company Name          Location  \\\n",
       "0                                 Edison Energy\\n3.7        Boston, MA   \n",
       "1  Johns Hopkins Applied Physics Laboratory (APL)...  Offutt A F B, NE   \n",
       "2                                          RELX\\n3.3       Raleigh, NC   \n",
       "3                                  Density Inc.\\n4.8            Remote   \n",
       "4                                MetLife Legal Plans            Remote   \n",
       "\n",
       "                      Size Founded               Type of ownership  \\\n",
       "0      51 to 200 Employees    2013               Company - Private   \n",
       "1  5001 to 10000 Employees    1942          Nonprofit Organization   \n",
       "2   1001 to 5000 Employees    1968  Subsidiary or Business Segment   \n",
       "3        1 to 50 Employees    2014               Company - Private   \n",
       "4                       -1      -1                              -1   \n",
       "\n",
       "                  Industry                        Sector  \\\n",
       "0                   Energy  Oil, Gas, Energy & Utilities   \n",
       "1      Aerospace & Defense           Aerospace & Defense   \n",
       "2  Advertising & Marketing             Business Services   \n",
       "3                 Internet        Information Technology   \n",
       "4                       -1                            -1   \n",
       "\n",
       "                    Revenue  \n",
       "0  Unknown / Non-Applicable  \n",
       "1    $1 to $2 billion (USD)  \n",
       "2    $1 to $2 billion (USD)  \n",
       "3  Unknown / Non-Applicable  \n",
       "4                        -1  "
      ]
     },
     "execution_count": 8,
     "metadata": {},
     "output_type": "execute_result"
    }
   ],
   "source": [
    "df.head()"
   ]
  },
  {
   "cell_type": "markdown",
   "metadata": {},
   "source": [
    "Above you can see the five scaped job postings that relate to the search term, 'Data Scientist'.  This function was utilized by iterating over the list of our careers, and substituting the *keyword* for each one of our careers.  For every iteration, the resulting data frame was saved to an object and then written to an individual csv file, titled the respective career.  This was done intentionally, rather than just appending each new data frame to the last, to create one large data frame at the end of the scrape.  The former method was the efficient and robust to the code breaking at any point.  There were instances where the for-loop broke due to unforseen events.  However, because we chose to write each data frame for each career to it's own file, we were able to resume the for loop where it broke, rather than starting over completely.  "
   ]
  },
  {
   "cell_type": "markdown",
   "metadata": {},
   "source": [
    "After the conclusion of the entire scrape, we concatenated each data frame to each other, creating one large object. In total, our data frame contained 48,928 records, with 13 features.  These original features included:\n",
    "\n",
    "* Job Title - Title of the Job Posting on Glassdoor (E.g., Senior Data Scientist, Junior Dental Hygienist)\n",
    "* Salary Estimate - The Glassdoor provided average salary estimate based on previous employees in the same company and/or position who have reported their earnings to the platform. (E.g., Employer Provided Salary: $80K - $100K)\n",
    "* Job Description - A brief description of the job, responsibilities, and other need to know's that the company has chosen to share.\n",
    "* Company Rating - A float data type representing the company's average rating, on a scale from 1.0 to 5.0 (E.g., 3.7)\n",
    "* Company Name - The name of the company who is offering the job (E.g., Amazon.com Services LLC)\n",
    "* Location - The location of where the job is being offered (E.g., Sandy, TX)\n",
    "* Size - The size of the company as a whole. (E.g., 10000+ Employees)\n",
    "* Founded - The year the company was founded (E.g., 1994)\n",
    "* Type of Ownership - A string variable indicating if the company is public, private, school/university, government, etc. (E.g., Company - Public)\n",
    "* Industry - The industry the company is in (E.g., Internet)\n",
    "* Sector - The sector the company is in (E.g., Information Technology)\n",
    "* Revenue - The revenue the company earns each fiscal year (E.g., $10+ Billion)\n",
    "* Simplified Job Title - The career name that was used to scrape for that specific job posting\n",
    "\n",
    "*Below is the code from the data_cleaning.py script that we utilzied to perform the former actions.*"
   ]
  },
  {
   "cell_type": "code",
   "execution_count": 40,
   "metadata": {},
   "outputs": [
    {
     "data": {
      "text/html": [
       "<div>\n",
       "<style scoped>\n",
       "    .dataframe tbody tr th:only-of-type {\n",
       "        vertical-align: middle;\n",
       "    }\n",
       "\n",
       "    .dataframe tbody tr th {\n",
       "        vertical-align: top;\n",
       "    }\n",
       "\n",
       "    .dataframe thead th {\n",
       "        text-align: right;\n",
       "    }\n",
       "</style>\n",
       "<table border=\"1\" class=\"dataframe\">\n",
       "  <thead>\n",
       "    <tr style=\"text-align: right;\">\n",
       "      <th></th>\n",
       "      <th>Job Title</th>\n",
       "      <th>Salary Estimate</th>\n",
       "      <th>Job Description</th>\n",
       "      <th>Rating</th>\n",
       "      <th>Company Name</th>\n",
       "      <th>Location</th>\n",
       "      <th>Size</th>\n",
       "      <th>Founded</th>\n",
       "      <th>Type of ownership</th>\n",
       "      <th>Industry</th>\n",
       "      <th>Sector</th>\n",
       "      <th>Revenue</th>\n",
       "      <th>simplified_job_title</th>\n",
       "    </tr>\n",
       "  </thead>\n",
       "  <tbody>\n",
       "    <tr>\n",
       "      <th>0</th>\n",
       "      <td>IT Manager for Logistics Company</td>\n",
       "      <td>Employer Provided Salary:$80K - $100K</td>\n",
       "      <td>Job Summary:\\nSupports all aspects of Company’...</td>\n",
       "      <td>-1.0</td>\n",
       "      <td>TradePort Logistics, LLC</td>\n",
       "      <td>Georgia</td>\n",
       "      <td>Unknown</td>\n",
       "      <td>-1.0</td>\n",
       "      <td>Company - Public</td>\n",
       "      <td>-1</td>\n",
       "      <td>-1</td>\n",
       "      <td>Unknown / Non-Applicable</td>\n",
       "      <td>IT Manager</td>\n",
       "    </tr>\n",
       "    <tr>\n",
       "      <th>1</th>\n",
       "      <td>IT Director</td>\n",
       "      <td>Employer Provided Salary:$80K - $100K</td>\n",
       "      <td>Seeking an experienced IT Director to oversee ...</td>\n",
       "      <td>-1.0</td>\n",
       "      <td>Confidential</td>\n",
       "      <td>Cranbury, NJ</td>\n",
       "      <td>-1</td>\n",
       "      <td>-1.0</td>\n",
       "      <td>-1</td>\n",
       "      <td>-1</td>\n",
       "      <td>-1</td>\n",
       "      <td>-1</td>\n",
       "      <td>IT Manager</td>\n",
       "    </tr>\n",
       "    <tr>\n",
       "      <th>2</th>\n",
       "      <td>Corporate IT Manager</td>\n",
       "      <td>Employer Provided Salary:$85K - $95K</td>\n",
       "      <td>Noregon is looking for a Corporate IT Manager ...</td>\n",
       "      <td>3.6</td>\n",
       "      <td>Noregon Systems\\n3.6</td>\n",
       "      <td>Greensboro, NC</td>\n",
       "      <td>51 to 200 Employees</td>\n",
       "      <td>1993.0</td>\n",
       "      <td>Company - Private</td>\n",
       "      <td>Computer Hardware &amp; Software</td>\n",
       "      <td>Information Technology</td>\n",
       "      <td>$5 to $10 million (USD)</td>\n",
       "      <td>IT Manager</td>\n",
       "    </tr>\n",
       "    <tr>\n",
       "      <th>3</th>\n",
       "      <td>IT Manager</td>\n",
       "      <td>Employer Provided Salary:$75K - $85K</td>\n",
       "      <td>Company: A small Entertainment Company located...</td>\n",
       "      <td>-1.0</td>\n",
       "      <td>Confidential</td>\n",
       "      <td>Los Angeles, CA</td>\n",
       "      <td>-1</td>\n",
       "      <td>-1.0</td>\n",
       "      <td>-1</td>\n",
       "      <td>-1</td>\n",
       "      <td>-1</td>\n",
       "      <td>-1</td>\n",
       "      <td>IT Manager</td>\n",
       "    </tr>\n",
       "    <tr>\n",
       "      <th>4</th>\n",
       "      <td>IT Project Manager (Agile delivery experience ...</td>\n",
       "      <td>Employer Provided Salary:$120K - $150K</td>\n",
       "      <td>*** Prefer candidates local to Washington DMV ...</td>\n",
       "      <td>-1.0</td>\n",
       "      <td>Radiant Infotech</td>\n",
       "      <td>Catonsville, MD</td>\n",
       "      <td>-1</td>\n",
       "      <td>-1.0</td>\n",
       "      <td>-1</td>\n",
       "      <td>-1</td>\n",
       "      <td>-1</td>\n",
       "      <td>-1</td>\n",
       "      <td>IT Manager</td>\n",
       "    </tr>\n",
       "  </tbody>\n",
       "</table>\n",
       "</div>"
      ],
      "text/plain": [
       "                                           Job Title  \\\n",
       "0                   IT Manager for Logistics Company   \n",
       "1                                        IT Director   \n",
       "2                               Corporate IT Manager   \n",
       "3                                         IT Manager   \n",
       "4  IT Project Manager (Agile delivery experience ...   \n",
       "\n",
       "                          Salary Estimate  \\\n",
       "0   Employer Provided Salary:$80K - $100K   \n",
       "1   Employer Provided Salary:$80K - $100K   \n",
       "2    Employer Provided Salary:$85K - $95K   \n",
       "3    Employer Provided Salary:$75K - $85K   \n",
       "4  Employer Provided Salary:$120K - $150K   \n",
       "\n",
       "                                     Job Description  Rating  \\\n",
       "0  Job Summary:\\nSupports all aspects of Company’...    -1.0   \n",
       "1  Seeking an experienced IT Director to oversee ...    -1.0   \n",
       "2  Noregon is looking for a Corporate IT Manager ...     3.6   \n",
       "3  Company: A small Entertainment Company located...    -1.0   \n",
       "4  *** Prefer candidates local to Washington DMV ...    -1.0   \n",
       "\n",
       "               Company Name         Location                 Size  Founded  \\\n",
       "0  TradePort Logistics, LLC          Georgia              Unknown     -1.0   \n",
       "1              Confidential     Cranbury, NJ                   -1     -1.0   \n",
       "2      Noregon Systems\\n3.6   Greensboro, NC  51 to 200 Employees   1993.0   \n",
       "3              Confidential  Los Angeles, CA                   -1     -1.0   \n",
       "4          Radiant Infotech  Catonsville, MD                   -1     -1.0   \n",
       "\n",
       "   Type of ownership                      Industry                  Sector  \\\n",
       "0   Company - Public                            -1                      -1   \n",
       "1                 -1                            -1                      -1   \n",
       "2  Company - Private  Computer Hardware & Software  Information Technology   \n",
       "3                 -1                            -1                      -1   \n",
       "4                 -1                            -1                      -1   \n",
       "\n",
       "                    Revenue simplified_job_title  \n",
       "0  Unknown / Non-Applicable           IT Manager  \n",
       "1                        -1           IT Manager  \n",
       "2   $5 to $10 million (USD)           IT Manager  \n",
       "3                        -1           IT Manager  \n",
       "4                        -1           IT Manager  "
      ]
     },
     "execution_count": 40,
     "metadata": {},
     "output_type": "execute_result"
    }
   ],
   "source": [
    "import glob # Wild carding for filenames\n",
    "import pandas as pd\n",
    "cwd = os.getcwd() # get cwd\n",
    "cwd = cwd.split('/') # split cwd on '/'\n",
    "cwd = cwd[:-1] # remove the last item of the cwd list (moving back one directory)\n",
    "s = '/'\n",
    "cwd = s.join(cwd) # join together new cwd\n",
    "os.chdir(cwd) # change directory\n",
    "\n",
    "path = os.getcwd() \n",
    "all_files = glob.glob(path + \"/data_collection/data_files/*.csv\") # get all csv file paths\n",
    "\n",
    "dfs = [] # list of df's\n",
    "\n",
    "for filename in all_files: # iterate through each csv file path\n",
    "    df = pd.read_csv(filename, index_col=0) # read in to df\n",
    "    df['simplified_job_title'] = filename.split('/')[-1].replace('_',' ').replace('.csv','') # append the search term that was used to find that specific job title (career name)\n",
    "    dfs.append(df) # append to the dfs list\n",
    "\n",
    "df_orig = pd.concat(dfs, axis=0, ignore_index=True) # concatenate all the df's\n",
    "df_orig.head()"
   ]
  },
  {
   "cell_type": "code",
   "execution_count": 41,
   "metadata": {},
   "outputs": [
    {
     "data": {
      "text/plain": [
       "(48928, 13)"
      ]
     },
     "execution_count": 41,
     "metadata": {},
     "output_type": "execute_result"
    }
   ],
   "source": [
    "df_orig.shape"
   ]
  },
  {
   "cell_type": "markdown",
   "metadata": {},
   "source": [
    "# Data Cleaning"
   ]
  },
  {
   "cell_type": "markdown",
   "metadata": {},
   "source": [
    "As you can see above, this data needs to be thoroughly cleaned.  The below code block houses all the initial cleaning methods we intialized.  \n",
    "\n",
    "* Salary Parsing \n",
    "    * The *Salary Estimate* colummn contained either hourly or annual pay rates.  \n",
    "    * We created an indicator columns, *hourly*, that if the value equals 1 means the pay rate is hourly, 0 implies annually\n",
    "    * The *Salary Estimate* column also provided information regarding if the employer of the job posting provided the salary.  \n",
    "    * We developed another indicator column, *employer provided*, where 1 implies the employer did provide the information, and 0 meaning the salary is an average provided by Glassdoor.\n",
    "    * We also removed rows where the salary was missing as this will directly be used to calculate our target varaiable. \n",
    "    * The *Salary Estimate* field for the majority provided a range of dollar amounts.  From this we parsed each value and split them into two columns, *Minimum* and *Maximum Salary*.  \n",
    "    * These two columns were used to compute our dependent variable *average salary*\n",
    "    * It should be noted that if the pay rate given was in fact hourly, the minimum and maximum values were multiplied by 2,000 (2) to represent an annual pay rate\n",
    "* Company Name\n",
    "    * Above you can see the *Company Name* field has random characters and sometimes the value for Rating was included.  \n",
    "    * We removed these random characters and sliced the company name from any integers being left on the tail.\n",
    "* State Field\n",
    "    * We constructed a state variable that was just parsed from the *Location* \n",
    "* Age \n",
    "    * We computed the variable *age* by subtracting the *Founded* year from the current year, 2021.\n",
    "\n",
    "Upon completing all of these *major* cleaning tasks that enhanced our data and made collecting insights much easier, we wrote the data frame to a new csv file, *cleaned_df.csv*"
   ]
  },
  {
   "cell_type": "code",
   "execution_count": null,
   "metadata": {},
   "outputs": [],
   "source": [
    "##### SALARY PARSING ####\n",
    "df['hourly'] = df['Salary Estimate'].astype(str).apply(lambda x: 1 if 'per hour' in x.lower() else 0)\n",
    "df['employer_provided'] = df['Salary Estimate'].astype(str).apply(lambda x: 1 if 'employer provided salary:' in x.lower() else 0)\n",
    "\n",
    "#Removing the rows with no salary estimate as this is our target varaible\n",
    "df = df[(df['Salary Estimate'] != '-1') & (df['Salary Estimate'].notnull())]\n",
    "\n",
    "#Clearning Salary Estimate Column for the text and the '$' and 'K'\n",
    "salary = df['Salary Estimate'].astype(str).apply(lambda x: x.split('(')[0])\n",
    "minus_Kd = salary.apply(lambda x: x.replace('K','').replace('$',''))\n",
    "\n",
    "#Cleaning Salary Estimate column for the 'per hour' and 'K'\n",
    "min_hr = minus_Kd.apply(lambda x: x.lower().replace('per hour',''))\n",
    "min_hr = min_hr.apply(lambda x: x.lower().replace('employer provided salary:',''))\n",
    "\n",
    "df['min_salary'] = min_hr.apply(lambda x: x.split('-')[0])\n",
    "df['max_salary'] = min_hr.apply(lambda x: x.split('-')[1] if len(x.split('-'))==2 else x)\n",
    "df['min_salary'] = df['min_salary'].astype(int)\n",
    "df['max_salary'] = df['max_salary'].astype(int)\n",
    "\n",
    "## Average Salary -- Target Variable\n",
    "df['avg_salary'] = df[['min_salary', 'max_salary']].mean(axis=1)\n",
    "        \n",
    "\n",
    "##### COMPANY NAME TEXT ONLY #####\n",
    "df['company_txt'] = df.apply(lambda x: x['Company Name'] if x['Rating'] < 0 else x['Company Name'][:-3], axis = 1)\n",
    "\n",
    "##### STATE FIELD ####\n",
    "df['job_state'] = df['Location'].astype(str).apply(lambda x: x.split(',')[1] if len(x.split(','))== 2 else x.split(',')[0]).str.strip()\n",
    "\n",
    "##### AGE OF COMPANY #####\n",
    "df['age'] = df.Founded.apply(lambda x: x if x < 1 else 2021 - x)\n",
    "\n",
    "#### Wirte to new csv file ####\n",
    "df.to_csv(\"data_collection/data_files/cleaned_df.csv\")"
   ]
  },
  {
   "cell_type": "markdown",
   "metadata": {},
   "source": [
    "# Exploratory Data Analysis"
   ]
  },
  {
   "cell_type": "markdown",
   "metadata": {},
   "source": [
    "The [Exploratory Data Analysis Notebook](https://github.com/yiannimercer/career_salary_estimator/blob/main/exploratory_data_analysis.ipynb) features various data analysis methods used to understand our data. Prior to the analysis however, some previously lapsed data errors or missed items were addressed. For example, the job_state variable did not have the correct format, or cities in place of the state. Additionally, we removed rows where numeric columns are null or were not valid at this point. We parsed the *Job Title* variable for certain levels the job may be at (E.g., Junior, Senior). We also converted our respective features to their appropriate data types (i.e., int, object, etc.). Various bar, box, distribution, and correlation plots, along with group by aggregated tables were utilized to gain insights into our dataset. Below are some highlights of the analysis.  I have included some images below that offer some great insight and allow us to understand how salary, (or other features) interact with each other. \n",
    "\n",
    "#### Summary Statistics\n",
    "![Summary Statistics](Summary_stats.png)\n",
    "#### Correlation Plot of Pure Numerical Variables\n",
    "![Corr Plot](corr_plot_num_variables.png)\n",
    "#### Seniority Bar Plot\n",
    "![Seniority Plot](seniority_img.png)\n",
    "#### Location Bar Plot (Sorted)\n",
    "![Location Plot](location_img.png)\n",
    "#### Average Salary by Company Rating\n",
    "Rating |Average Salary|\n",
    "--- | --- |\n",
    "1.0 | 157,226.496 |\n",
    "2.0 | 102,184.138 |\n",
    "3.0 | 99,387.576 |\n",
    "4.0 | 102,718.746 |\n",
    "5.0 | 134,175.620 |\n",
    "-1 Not Found | 118,613.914 |"
   ]
  },
  {
   "cell_type": "markdown",
   "metadata": {},
   "source": [
    "#### Average Salary by Hourly vs. Annual\n",
    "Rating |Average Salary|\n",
    "--- | --- |\n",
    "1 (Hourly) | 54,091.067 |\n",
    "0 (Annual) | 127,210.297 |"
   ]
  },
  {
   "cell_type": "markdown",
   "metadata": {},
   "source": [
    "#### Average Salary by the Type of Ownership of the Company\n",
    "Type of Ownership of the Company |Average Salary|\n",
    "--- | --- |\n",
    "Private Practice / Firm         |148.811052|\n",
    "Company - Private               |114.325092|\n",
    "Contract                        |107.555172|\n",
    "Company - Public                |107.351118|\n",
    "College / University            |105.716396|\n",
    "Government                      |105.674370|\n",
    "Subsidiary or Business Segment  |102.095779|\n",
    "Hospital                        | 99.907876|\n",
    "School / School District        | 87.400000|\n",
    "Nonprofit Organization          | 82.521432|\n",
    "Self-employed                   | 77.071942|\n",
    "Franchise                       | 54.804124|\n",
    "Unknown                         |125.805687|\n",
    "-1 (Not Found)                  |116.426477|"
   ]
  },
  {
   "cell_type": "markdown",
   "metadata": {},
   "source": [
    "# Model Building & Optimization"
   ]
  },
  {
   "cell_type": "markdown",
   "metadata": {},
   "source": [
    "Knowing the problem called for a regression model, we opted for the following choices of algorithms.  The choices were based on the eventual ability to progressively tune the hyper-parameters for performance and efficiency, relating to our scoring methods, and the run time of the model.  \n",
    "\n",
    "1. Multiple Linear Regression\n",
    "2. LASSO Regression\n",
    "3. Random Forest regression"
   ]
  },
  {
   "cell_type": "markdown",
   "metadata": {},
   "source": [
    "## Preprocessing Data"
   ]
  },
  {
   "cell_type": "code",
   "execution_count": 43,
   "metadata": {},
   "outputs": [],
   "source": [
    "import pandas as pd \n",
    "import matplotlib.pyplot as plt\n",
    "import numpy as np\n",
    "\n",
    "df = pd.read_csv(\"eda_data.csv\") # data frame we saved after the various transformations we conducted earlier\n",
    "\n",
    "df_model = df[['avg_salary','Rating','Size','Type of ownership','Industry','Sector','Revenue','employer_provided','job_state','age',\n",
    "               'simplified_job_title','seniority']] ## Grab all columns that will be in our model\n",
    "\n",
    "# Get Dummy Data\n",
    "df_dum = pd.get_dummies(df_model)\n",
    "\n",
    "from sklearn.model_selection import train_test_split\n",
    "\n",
    "X = df_dum.drop('avg_salary',axis = 1) # Independent Variables\n",
    "y = df_dum.avg_salary.values # Dependent Variable\n",
    "\n",
    "# Train test split, with a test size of 20%\n",
    "X_train, X_test, y_train, y_test = train_test_split(X,y,test_size = 0.2, random_state = 111) "
   ]
  },
  {
   "cell_type": "markdown",
   "metadata": {},
   "source": [
    "## Multiple Linear Regression"
   ]
  },
  {
   "cell_type": "code",
   "execution_count": 44,
   "metadata": {},
   "outputs": [
    {
     "data": {
      "text/plain": [
       "Text(0, 0.5, 'Negative Mean Absolute Error')"
      ]
     },
     "execution_count": 44,
     "metadata": {},
     "output_type": "execute_result"
    },
    {
     "data": {
      "image/png": "[encoded data removed]",
      "text/plain": [
       "<Figure size 432x288 with 1 Axes>"
      ]
     },
     "metadata": {
      "needs_background": "light"
     },
     "output_type": "display_data"
    }
   ],
   "source": [
    "# Multiple Linear Regression\n",
    "from sklearn.linear_model import LinearRegression, Lasso \n",
    "from sklearn.model_selection import cross_val_score\n",
    "\n",
    "lm = LinearRegression()\n",
    "lm.fit(X_train, y_train)\n",
    "\n",
    "lm_cv = cross_val_score(lm,X_train,y_train, scoring = 'neg_mean_absolute_error', cv= 5)\n",
    "np.mean(lm_cv)"
   ]
  },
  {
   "cell_type": "markdown",
   "metadata": {},
   "source": [
    "Linear Regression was chosen as a baseline, knowing we would not receive the most promising results, however to get an idea of the model building process and to kickstart our efforts we chose to utilize this algorithm.  We performed 5-fold cross validation, scoring the model based on the negative mean absolute error, and calculated the mean of each fold."
   ]
  },
  {
   "cell_type": "markdown",
   "metadata": {},
   "source": [
    "## LASSO Regression"
   ]
  },
  {
   "cell_type": "code",
   "execution_count": 45,
   "metadata": {},
   "outputs": [],
   "source": [
    "lm_l = Lasso()\n",
    "lm_l.fit(X_train,y_train)\n",
    "np.mean(cross_val_score(lm_l,X_train,y_train, scoring = 'neg_mean_absolute_error', cv= 5))\n",
    "\n",
    "alpha = []\n",
    "error = []\n",
    "\n",
    "for i in range(1,100):\n",
    "    alpha.append(i/100)\n",
    "    lml = Lasso(alpha=(i/100))\n",
    "    error.append(np.mean(cross_val_score(lml,X_train,y_train, scoring = 'neg_mean_absolute_error', cv= 5)))"
   ]
  },
  {
   "cell_type": "markdown",
   "metadata": {},
   "source": [
    "Furthermore, we transitioned into fitting a LASSO regression model, which can be thought of a modified version of linear regression.  In LASSO, the loss function is modified to minimize the complexity of the model by limiting the sum of the absolute values of the model coefficients. [[1]](https://www.pluralsight.com/guides/linear-lasso-ridge-regression-scikit-learn)  We chose to fit the LASSO model due to the sparse data from the many categorical variables that were a result of getting dummy variables for the majority of our columns. Therefore, our thought was a normalized regression like LASSO could be effective.  As an effort to substantiate our model through many iterations, we chose to fit and use a 5-fold cross validation, over 100 different values for alpha (*range(1,100) / 100*) "
   ]
  },
  {
   "cell_type": "markdown",
   "metadata": {},
   "source": [
    "## Random Forest Regression"
   ]
  },
  {
   "cell_type": "code",
   "execution_count": 46,
   "metadata": {},
   "outputs": [],
   "source": [
    "from sklearn.ensemble import RandomForestRegressor\n",
    "rf = RandomForestRegressor(random_state=42)\n",
    "\n",
    "rf_cv = cross_val_score(rf,X_train,y_train,scoring = 'neg_mean_absolute_error', cv = 5)"
   ]
  },
  {
   "cell_type": "markdown",
   "metadata": {},
   "source": [
    "Finally, a Random Forest Regression model was fit, again choosing this model due to many dummy variables, but also with the intention of further iterating through parameters the Random Forest Regressor allows, via [GridSearchCV](https://scikit-learn.org/stable/modules/generated/sklearn.model_selection.GridSearchCV.html).  Initially, we fit the model using 5-fold cross validation, and scoring each iteration by its negative mean absolute error.  This model alone returned the most favorable results compared to the former two models, however as we mentioned, tuning of the hyper-parameters to optimize and arrive at the best model via GridSearch CV was performed."
   ]
  },
  {
   "cell_type": "markdown",
   "metadata": {},
   "source": [
    "# Model Performance & Findings"
   ]
  },
  {
   "cell_type": "code",
   "execution_count": 48,
   "metadata": {},
   "outputs": [],
   "source": [
    "# test ensembles \n",
    "from sklearn.metrics import mean_absolute_error\n",
    "tpred_lm = lm.predict(X_test)\n",
    "tpred_lml = lm_l.predict(X_test)"
   ]
  },
  {
   "cell_type": "markdown",
   "metadata": {},
   "source": [
    "## Linear Regression"
   ]
  },
  {
   "cell_type": "code",
   "execution_count": 47,
   "metadata": {},
   "outputs": [
    {
     "data": {
      "text/plain": [
       "Text(0, 0.5, 'Negative Mean Absolute Error')"
      ]
     },
     "execution_count": 47,
     "metadata": {},
     "output_type": "execute_result"
    },
    {
     "data": {
      "image/png": "[encoded data removed]",
      "text/plain": [
       "<Figure size 432x288 with 1 Axes>"
      ]
     },
     "metadata": {
      "needs_background": "light"
     },
     "output_type": "display_data"
    }
   ],
   "source": [
    "plt.plot(range(1,6),lm_cv,marker ='o')\n",
    "plt.title(\"Multiple Linear Regression Performance on 5-Fold CV\")\n",
    "plt.xlabel(\"K-Fold\")\n",
    "plt.ylabel(\"Negative Mean Absolute Error\")"
   ]
  },
  {
   "cell_type": "markdown",
   "metadata": {},
   "source": [
    "Data Set | Mean Absolute Error |\n",
    "--- | --- |\n",
    "5-Fold Cross Validation on Training Set     |2311113.8638958544|\n",
    "Test Set                  |43907.414817765246|"
   ]
  },
  {
   "cell_type": "markdown",
   "metadata": {},
   "source": [
    "Linear Regression by far performed the worst compared to any version of any model.  There's not much to report here, however this did provide a good baseline to further progress through our other models. "
   ]
  },
  {
   "cell_type": "markdown",
   "metadata": {},
   "source": [
    "## LASSO Regression"
   ]
  },
  {
   "cell_type": "code",
   "execution_count": 52,
   "metadata": {},
   "outputs": [
    {
     "data": {
      "image/png": "[encoded data removed]",
      "text/plain": [
       "<Figure size 432x288 with 1 Axes>"
      ]
     },
     "metadata": {
      "needs_background": "light"
     },
     "output_type": "display_data"
    },
    {
     "name": "stdout",
     "output_type": "stream",
     "text": [
      "Alpha level with the best Negative Mean Absolute Error\n"
     ]
    },
    {
     "data": {
      "text/html": [
       "<div>\n",
       "<style scoped>\n",
       "    .dataframe tbody tr th:only-of-type {\n",
       "        vertical-align: middle;\n",
       "    }\n",
       "\n",
       "    .dataframe tbody tr th {\n",
       "        vertical-align: top;\n",
       "    }\n",
       "\n",
       "    .dataframe thead th {\n",
       "        text-align: right;\n",
       "    }\n",
       "</style>\n",
       "<table border=\"1\" class=\"dataframe\">\n",
       "  <thead>\n",
       "    <tr style=\"text-align: right;\">\n",
       "      <th></th>\n",
       "      <th>alpha</th>\n",
       "      <th>error</th>\n",
       "    </tr>\n",
       "  </thead>\n",
       "  <tbody>\n",
       "    <tr>\n",
       "      <th>0</th>\n",
       "      <td>0.01</td>\n",
       "      <td>-19.212683</td>\n",
       "    </tr>\n",
       "  </tbody>\n",
       "</table>\n",
       "</div>"
      ],
      "text/plain": [
       "   alpha      error\n",
       "0   0.01 -19.212683"
      ]
     },
     "execution_count": 52,
     "metadata": {},
     "output_type": "execute_result"
    }
   ],
   "source": [
    "lm_l = Lasso(alpha = 0.01)\n",
    "\n",
    "plt.plot(alpha,error)\n",
    "plt.title(\"Average Negative Mean Absolute Error for Each Alpha Parameter of LASSO Regression\")\n",
    "plt.xlabel(\"Alpha\")\n",
    "plt.ylabel(\"Error\")\n",
    "plt.show()\n",
    "\n",
    "err = tuple(zip(alpha,error))\n",
    "df_err = pd.DataFrame(err, columns = ['alpha','error'])\n",
    "print(\"Alpha level with the best Negative Mean Absolute Error\")\n",
    "df_err[df_err.error == max(df_err.error)]"
   ]
  },
  {
   "cell_type": "markdown",
   "metadata": {},
   "source": [
    "Data Set | Mean Absolute Error |\n",
    "--- | --- |\n",
    "5-Fold Cross Validation on Training Set (Alpha = 0.01)     |19.212683|\n",
    "Test Set (Alpha = 0.01)                 |18.334629248453158|\n"
   ]
  },
  {
   "cell_type": "markdown",
   "metadata": {},
   "source": [
    "LASSO Regression was much more promising than the previous Linear Regression Model.  By iterating through 100 values that would be multiplied against the L1 term, otherwise known as the *alpha* parameter, we were able to visualize the model as it progress through each.  While this plot (above) is rather basic, it paints a picture of increasing the *alpha* parameter, will only lead to a worse negative mean absolute error.  Above all else, our final LASSO model has given us hope that our Random Forest model can surpass this score. "
   ]
  },
  {
   "cell_type": "markdown",
   "metadata": {},
   "source": [
    "## Random Forest Regression"
   ]
  },
  {
   "cell_type": "code",
   "execution_count": 54,
   "metadata": {},
   "outputs": [
    {
     "data": {
      "text/plain": [
       "-17.17893389932689"
      ]
     },
     "execution_count": 54,
     "metadata": {},
     "output_type": "execute_result"
    },
    {
     "data": {
      "image/png": "[encoded data removed]",
      "text/plain": [
       "<Figure size 432x288 with 1 Axes>"
      ]
     },
     "metadata": {
      "needs_background": "light"
     },
     "output_type": "display_data"
    }
   ],
   "source": [
    "plt.plot(range(1,6),rf_cv,marker ='o')\n",
    "plt.title(\"Random Forest Regression Performance on 5-Fold CV\")\n",
    "plt.xlabel(\"K-Fold\")\n",
    "plt.ylabel(\"Negative Mean Absolute Error\")\n",
    "np.mean(rf_cv)"
   ]
  },
  {
   "cell_type": "code",
   "execution_count": 55,
   "metadata": {},
   "outputs": [],
   "source": [
    "parameters = {'n_estimators':range(10,300,60), 'criterion':['mse'], 'max_features':('auto','sqrt')}"
   ]
  },
  {
   "cell_type": "code",
   "execution_count": 57,
   "metadata": {},
   "outputs": [
    {
     "data": {
      "text/plain": [
       "16.402337994480778"
      ]
     },
     "execution_count": 57,
     "metadata": {},
     "output_type": "execute_result"
    }
   ],
   "source": [
    "from sklearn.model_selection import GridSearchCV\n",
    "\n",
    "gs = GridSearchCV(rf,parameters,scoring='neg_mean_absolute_error',cv=3, n_jobs=-1)\n",
    "gs.fit(X_train,y_train)\n",
    "\n",
    "gs.best_score_\n",
    "gs.best_estimator_\n",
    "\n",
    "tpred_rf = gs.best_estimator_.predict(X_test)\n",
    "mean_absolute_error(y_test,tpred_rf)"
   ]
  },
  {
   "cell_type": "markdown",
   "metadata": {},
   "source": [
    "Random Forest, before any tuning of the hyper-parameters, still outperformed both of our previous models.  Like the formers, we also applied 5-Fold Cross Validation, scoring based off the negative mean absolute value.  Calculating the mean of these models, **we arrived at mean absolute value of 17.17893389932689.**  \n",
    "\n",
    "However, we wished to optimize the Random Forest Regressor Model even further by performing Sklearn's model selection class, GridSearchCV.  The following instances of the Random Forest's parameters were declared in the dictionary *parameters* above."
   ]
  },
  {
   "cell_type": "markdown",
   "metadata": {},
   "source": [
    "The parameter dictionary was then passed to the GridSearchCV function, indicating a 3-Fold Cross Validation also be performed for each combination of parameter values.  After generating predictions on our test set, **the calculated mean absolute error of 16.402337994480778** easily indicated our arrival at our best performing model."
   ]
  },
  {
   "cell_type": "markdown",
   "metadata": {},
   "source": [
    "# Deploying the Model to a Web Application"
   ]
  },
  {
   "cell_type": "markdown",
   "metadata": {},
   "source": [
    "## Pickle"
   ]
  },
  {
   "cell_type": "markdown",
   "metadata": {},
   "source": [
    "Utilizing the Python module, *Pickle* we serialized the final Hyper-Parameter Tuned Random Forest Regression model by saving the model object and passing it into the *dump* function of *Pickle*.  This will not only serialize the object, but also convert it into *byte-stream* that we can save as a file called, *regressor.pkl*."
   ]
  },
  {
   "cell_type": "code",
   "execution_count": 59,
   "metadata": {},
   "outputs": [],
   "source": [
    "# saving the model \n",
    "import pickle\n",
    "pickle_out = open(\"regressor.pkl\", mode = \"wb\")\n",
    "pickle.dump(gs.best_estimator_, pickle_out)\n",
    "pickle_out.close()"
   ]
  },
  {
   "cell_type": "markdown",
   "metadata": {},
   "source": [
    "Once the model has been pickled, we can then load in the trained model to a different location.  The below code highlights how this can be done.  Once the model is loaded in, we can use it to make predictions on data that may have not been part of the original dataset. In the example below for the ease of explination we will just use a row in our test set, however this demonstrates how the model can be saved and then loaded back in to make predictions with independent variables that it requires as parameters"
   ]
  },
  {
   "cell_type": "code",
   "execution_count": 69,
   "metadata": {},
   "outputs": [
    {
     "name": "stdout",
     "output_type": "stream",
     "text": [
      "[81.60139858]\n"
     ]
    }
   ],
   "source": [
    "# Load in the trained model\n",
    "pickle_in = open('regressor.pkl','rb')\n",
    "regressor = pickle.load(pickle_in)\n",
    "\n",
    "# Use the loaded in model to predict on data\n",
    "X = np.array(X_test.iloc[1]).reshape(1,-1)\n",
    "\n",
    "prediction = regressor.predict(X)\n",
    "print(prediction)"
   ]
  },
  {
   "cell_type": "markdown",
   "metadata": {},
   "source": [
    "## Streamlit"
   ]
  },
  {
   "cell_type": "code",
   "execution_count": 70,
   "metadata": {},
   "outputs": [],
   "source": [
    "import streamlit as st"
   ]
  },
  {
   "cell_type": "markdown",
   "metadata": {},
   "source": [
    "Streamlit allows you to build a web application within a Python script, making it a powerful tool in projects like these.  Within the [app.py](https://github.com/yiannimercer/career_salary_estimator/blob/main/app.py) script, you can see just how easy it is to not only deploy your machine learning models, but to also ingest user data to predict on.  The first step to this is to load our saved model that we serialized using *Pickle* in the former step.  This process can be seen above.\n",
    "\n",
    "Secondly, the *prediction()* function preprocessed the user inputs, reads in our original data frame, appends the user's data (with an indicator so we can keep track of it), transforms the entire data frame to our dummy modeling data frame, and then filters down to the one row that represents the user's data.  These inputs are then passed to the *regressor* object that we declared as our Random Forest model.\n",
    "\n",
    "Within the *appy.py* script, you will also notice the *main()* function.  This is where Streamlit's powerful features can be seen.  This function develops the front-end of our web application, declaring variables that house the user inputs.  Each *st.selectbox()* or other functions are user input fields that require data to be entered.  This data is saved within the object that you specify.  For instance, below you can see the *Size* object is a dropdown menu where the user has the option to select the size of the company.  The first parameter is the text that will be displayed above the user input field, and the second are the options they may choose. "
   ]
  },
  {
   "cell_type": "code",
   "execution_count": null,
   "metadata": {},
   "outputs": [],
   "source": [
    "Size = st.selectbox(\"Size of the Company\",(\"-1 - Non Applicable\"\n",
    "                          ,'1 to 50 Employees'\n",
    "                          ,'51 to 200 Employees'\n",
    "                          ,'201 to 500 Employees'\n",
    "                          ,'501 to 1000 Employees'\n",
    "                          ,'1001 to 5000 Employees'\n",
    "                          ,'5001 to 10000 Employees'\n",
    "                          ,'10000+ Employees'\n",
    "                          , 'Unknown'))  "
   ]
  },
  {
   "cell_type": "markdown",
   "metadata": {},
   "source": [
    "Finally, harnessing Streamlit's functionality we insert an *Estimate Salary* button, that when clicked, runs the former *prediction()* function we created, with the parameters as the user's inputs.  The prediction is saved to an object and is outputted and formatted for an aesthetically pleasing result.  This code can be seen below."
   ]
  },
  {
   "cell_type": "code",
   "execution_count": 72,
   "metadata": {},
   "outputs": [],
   "source": [
    "if st.button(\"Estimate Salary\"):\n",
    "    result = prediction(Rating,Size,Type_of_ownership,Industry,Sector,Revenue,employer_provided,job_state,age,simplified_job_title,seniority)\n",
    "    st.warning(\"The below estimation is simply a prediction using various Machine Learning Techniques such as Random Forest Regression and GridSearchCV in the Sklearn Library.  Please take this into account when comparing predictions against your true values\")\n",
    "    result = float(result[0])\n",
    "    result = str(\"${:.3f}\".format(result))\n",
    "    result = result.replace('.',',')\n",
    "    st.success(\"Based off of the Random Forest Regression Model with Mean Absolute Error of ~ $16,400, and whose parameters were hypertuned using GridSearch CV, your estimated salary should be {}\".format(result))\n",
    "    link = \"#### For more information on this career, check out Glassdoor's Information [Page](https://www.glassdoor.com/Search/results.htm?keyword={})\".format(simplified_job_title.replace(\" \",\"%20\"))\n",
    "    st.markdown(link,unsafe_allow_html=True)"
   ]
  },
  {
   "cell_type": "markdown",
   "metadata": {},
   "source": [
    "**If you wish to run the web application remotely, please navigate to the directory in which this repository is housed on your local machine within the Terminal.  Once your are in the directory, simply type: \"streamlit run app.py\"  The web application will then open in a local host on your machine, where you can interact with the app there.** "
   ]
  },
  {
   "cell_type": "code",
   "execution_count": null,
   "metadata": {},
   "outputs": [],
   "source": [
    "(base) yiannimercer@MacBook-Pro ~ % cd /Users/yiannimercer/Library/Mobile\\ Documents/iCloud\\~com\\~getrocketbook\\~Rocketbook/Documents/        DSC478_Programming_ML_Apps/Final_Project/career_salary_estimator\n",
    "(base) yiannimercer@MacBook-Pro career_salary_estimator % streamlit run app.py"
   ]
  },
  {
   "cell_type": "markdown",
   "metadata": {},
   "source": [
    "The output within the terminal will look like the following:"
   ]
  },
  {
   "cell_type": "markdown",
   "metadata": {},
   "source": [
    "![Terminal SS](terminal_ss.png)"
   ]
  },
  {
   "cell_type": "markdown",
   "metadata": {},
   "source": [
    "*If your browser automatically doesn't open up the *Local URL*, you can copy and paste the *Local URL* into your browser yourself!*"
   ]
  },
  {
   "cell_type": "markdown",
   "metadata": {},
   "source": [
    "**Finally, you can view the application at anytime, as it is being hosted by Streamlit.io via their seamless integration with Github Repo's**\n",
    "\n",
    "### Feel free to check out the web application [here](https://share.streamlit.io/yiannimercer/career_salary_estimator/main/app.py)!"
   ]
  },
  {
   "cell_type": "code",
   "execution_count": null,
   "metadata": {},
   "outputs": [],
   "source": []
  }
 ],
 "metadata": {
  "kernelspec": {
   "display_name": "Python 3",
   "language": "python",
   "name": "python3"
  },
  "language_info": {
   "codemirror_mode": {
    "name": "ipython",
    "version": 3
   },
   "file_extension": ".py",
   "mimetype": "text/x-python",
   "name": "python",
   "nbconvert_exporter": "python",
   "pygments_lexer": "ipython3",
   "version": "3.8.5"
  }
 },
 "nbformat": 4,
 "nbformat_minor": 4
}
