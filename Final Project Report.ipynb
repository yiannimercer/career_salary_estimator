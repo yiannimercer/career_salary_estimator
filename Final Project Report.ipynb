{
 "cells": [
  {
   "cell_type": "markdown",
   "metadata": {},
   "source": [
    "<h1 align=\"center\">A Machine Learning Approach at Estimating Career Salaries</h1> \n",
    "<h2 align=\"center\">Yianni Mercer | DSC 478 Programming ML Apps</h2> \n",
    "<h2 align=\"center\">Final Project Report</h2> "
   ]
  },
  {
   "cell_type": "markdown",
   "metadata": {},
   "source": [
    "U.S. News presented a list of the [Top 100 Careers in 2021](https://money.usnews.com/careers/best-jobs/rankings/the-100-best-jobs), which featured many relatively new and exciting options like Data Scientist and Software Enginner, but also old-reliable one's like Accountant or Physician. This project aimed to find a relationship between the average salary of the *Top 50* Careers from the former list and numerous variables that would be found on a respective job posting. When these relationship were identified, we exploited the underlying patterns that drive salary in order to develop a regression model that can accurately predict the average salary of various career paths.  Upon arriving at an optimized, well performing model, we developed a web application that can ingest a user's inputted data, and return our model's average salary predicition. "
   ]
  },
  {
   "cell_type": "markdown",
   "metadata": {},
   "source": [
    "# Data Collection"
   ]
  },
  {
   "cell_type": "markdown",
   "metadata": {},
   "source": [
    "The top 50 careers according to U.S. News seemed to use a rather ambiguous method of ranking these careers.  However, the scope of our project was not concerned with the actual true ranking of these careers, especially considering the career choice can be such an opinionated matter.  Regardless, it is important to note we are utilizing the former list to drive our data collection process.  In other words, we ingested the first 50 *unique* careers (*unique* ~ in the matter of ties), and did no analysis of their ranking method.  \n",
    "\n",
    "## Web Scraping\n",
    "\n",
    "[Glassdoor.com](https://www.glassdoor.com/index.htm) is a worldwide leading platform for individuals to review companies and provide data regarding their experience and role at a company, and for companies to post job soliciations with the hope of hiring quality candidates.  Glasdoor offers unprecendented insights into the employee experience powered by millions of company ratings and reviews, CEO approval ratings, salary reports, interview reviews and questions, benefits reviews, and much more.  Utilzing [Selenium](https://www.selenium.dev/), and a [web scraper designed for glassdoor](https://github.com/arapfaik/scraping-glassdoor-selenium) from nearly three years ago, we were able to ingest nearly 50,000 records of data.  Specifically, we scraped 1,000 job postings for each of the careers in our list.  Below you can see the web scraping function being imported and called to scrape Glassdoor for five job postings that are related to the search term, 'Data Scientist'.  The function returns a pandas Data Frame that houses the five scraped job postings.  "
   ]
  },
  {
   "cell_type": "code",
   "execution_count": 2,
   "metadata": {},
   "outputs": [],
   "source": [
    "import os\n",
    "# Assuming your cwd is the career_salary_estimator root folder\n",
    "cwd = os.getcwd()\n",
    "os.chdir(cwd + '/data_collection')\n",
    "from glassdoor_web_scraper import get_jobs"
   ]
  },
  {
   "cell_type": "code",
   "execution_count": 7,
   "metadata": {},
   "outputs": [
    {
     "name": "stdout",
     "output_type": "stream",
     "text": [
      "Progress: 0/5\n",
      "Progress: 1/5\n",
      "Progress: 2/5\n",
      "Progress: 3/5\n",
      "Progress: 4/5\n",
      "Progress: 5/5\n"
     ]
    }
   ],
   "source": [
    "path = os.getcwd() + '/chromedriver'\n",
    "df = get_jobs(keyword = \"Data Scientist\",num_jobs=5,verbose = False, path = path,slp_time = 10)"
   ]
  },
  {
   "cell_type": "code",
   "execution_count": 8,
   "metadata": {},
   "outputs": [
    {
     "data": {
      "text/html": [
       "<div>\n",
       "<style scoped>\n",
       "    .dataframe tbody tr th:only-of-type {\n",
       "        vertical-align: middle;\n",
       "    }\n",
       "\n",
       "    .dataframe tbody tr th {\n",
       "        vertical-align: top;\n",
       "    }\n",
       "\n",
       "    .dataframe thead th {\n",
       "        text-align: right;\n",
       "    }\n",
       "</style>\n",
       "<table border=\"1\" class=\"dataframe\">\n",
       "  <thead>\n",
       "    <tr style=\"text-align: right;\">\n",
       "      <th></th>\n",
       "      <th>Job Title</th>\n",
       "      <th>Salary Estimate</th>\n",
       "      <th>Job Description</th>\n",
       "      <th>Rating</th>\n",
       "      <th>Company Name</th>\n",
       "      <th>Location</th>\n",
       "      <th>Size</th>\n",
       "      <th>Founded</th>\n",
       "      <th>Type of ownership</th>\n",
       "      <th>Industry</th>\n",
       "      <th>Sector</th>\n",
       "      <th>Revenue</th>\n",
       "    </tr>\n",
       "  </thead>\n",
       "  <tbody>\n",
       "    <tr>\n",
       "      <th>0</th>\n",
       "      <td>Data Scientist - U.S. Electricity Markets</td>\n",
       "      <td>$65K - $133K (Glassdoor est.)</td>\n",
       "      <td>Company Overview:\\nEdison Energy is the expert...</td>\n",
       "      <td>3.7</td>\n",
       "      <td>Edison Energy\\n3.7</td>\n",
       "      <td>Boston, MA</td>\n",
       "      <td>51 to 200 Employees</td>\n",
       "      <td>2013</td>\n",
       "      <td>Company - Private</td>\n",
       "      <td>Energy</td>\n",
       "      <td>Oil, Gas, Energy &amp; Utilities</td>\n",
       "      <td>Unknown / Non-Applicable</td>\n",
       "    </tr>\n",
       "    <tr>\n",
       "      <th>1</th>\n",
       "      <td>Data Scientist</td>\n",
       "      <td>$64K - $109K (Glassdoor est.)</td>\n",
       "      <td>Would you like to be part of an organization t...</td>\n",
       "      <td>4.3</td>\n",
       "      <td>Johns Hopkins Applied Physics Laboratory (APL)...</td>\n",
       "      <td>Offutt A F B, NE</td>\n",
       "      <td>5001 to 10000 Employees</td>\n",
       "      <td>1942</td>\n",
       "      <td>Nonprofit Organization</td>\n",
       "      <td>Aerospace &amp; Defense</td>\n",
       "      <td>Aerospace &amp; Defense</td>\n",
       "      <td>$1 to $2 billion (USD)</td>\n",
       "    </tr>\n",
       "    <tr>\n",
       "      <th>2</th>\n",
       "      <td>Data Scientist</td>\n",
       "      <td>$62K - $117K (Glassdoor est.)</td>\n",
       "      <td>What you’ll do:\\nDrive product decisions using...</td>\n",
       "      <td>3.3</td>\n",
       "      <td>RELX\\n3.3</td>\n",
       "      <td>Raleigh, NC</td>\n",
       "      <td>1001 to 5000 Employees</td>\n",
       "      <td>1968</td>\n",
       "      <td>Subsidiary or Business Segment</td>\n",
       "      <td>Advertising &amp; Marketing</td>\n",
       "      <td>Business Services</td>\n",
       "      <td>$1 to $2 billion (USD)</td>\n",
       "    </tr>\n",
       "    <tr>\n",
       "      <th>3</th>\n",
       "      <td>Data Scientist</td>\n",
       "      <td>-1</td>\n",
       "      <td>At Density, we build one of the most advanced ...</td>\n",
       "      <td>4.8</td>\n",
       "      <td>Density Inc.\\n4.8</td>\n",
       "      <td>Remote</td>\n",
       "      <td>1 to 50 Employees</td>\n",
       "      <td>2014</td>\n",
       "      <td>Company - Private</td>\n",
       "      <td>Internet</td>\n",
       "      <td>Information Technology</td>\n",
       "      <td>Unknown / Non-Applicable</td>\n",
       "    </tr>\n",
       "    <tr>\n",
       "      <th>4</th>\n",
       "      <td>Data Scientist</td>\n",
       "      <td>Employer Provided Salary:$35 - $75 Per Hour</td>\n",
       "      <td>MetLife Legal Plans is the leading consumer le...</td>\n",
       "      <td>-1</td>\n",
       "      <td>MetLife Legal Plans</td>\n",
       "      <td>Remote</td>\n",
       "      <td>-1</td>\n",
       "      <td>-1</td>\n",
       "      <td>-1</td>\n",
       "      <td>-1</td>\n",
       "      <td>-1</td>\n",
       "      <td>-1</td>\n",
       "    </tr>\n",
       "  </tbody>\n",
       "</table>\n",
       "</div>"
      ],
      "text/plain": [
       "                                   Job Title  \\\n",
       "0  Data Scientist - U.S. Electricity Markets   \n",
       "1                             Data Scientist   \n",
       "2                             Data Scientist   \n",
       "3                             Data Scientist   \n",
       "4                             Data Scientist   \n",
       "\n",
       "                               Salary Estimate  \\\n",
       "0                $65K - $133K (Glassdoor est.)   \n",
       "1                $64K - $109K (Glassdoor est.)   \n",
       "2                $62K - $117K (Glassdoor est.)   \n",
       "3                                           -1   \n",
       "4  Employer Provided Salary:$35 - $75 Per Hour   \n",
       "\n",
       "                                     Job Description Rating  \\\n",
       "0  Company Overview:\\nEdison Energy is the expert...    3.7   \n",
       "1  Would you like to be part of an organization t...    4.3   \n",
       "2  What you’ll do:\\nDrive product decisions using...    3.3   \n",
       "3  At Density, we build one of the most advanced ...    4.8   \n",
       "4  MetLife Legal Plans is the leading consumer le...     -1   \n",
       "\n",
       "                                        Company Name          Location  \\\n",
       "0                                 Edison Energy\\n3.7        Boston, MA   \n",
       "1  Johns Hopkins Applied Physics Laboratory (APL)...  Offutt A F B, NE   \n",
       "2                                          RELX\\n3.3       Raleigh, NC   \n",
       "3                                  Density Inc.\\n4.8            Remote   \n",
       "4                                MetLife Legal Plans            Remote   \n",
       "\n",
       "                      Size Founded               Type of ownership  \\\n",
       "0      51 to 200 Employees    2013               Company - Private   \n",
       "1  5001 to 10000 Employees    1942          Nonprofit Organization   \n",
       "2   1001 to 5000 Employees    1968  Subsidiary or Business Segment   \n",
       "3        1 to 50 Employees    2014               Company - Private   \n",
       "4                       -1      -1                              -1   \n",
       "\n",
       "                  Industry                        Sector  \\\n",
       "0                   Energy  Oil, Gas, Energy & Utilities   \n",
       "1      Aerospace & Defense           Aerospace & Defense   \n",
       "2  Advertising & Marketing             Business Services   \n",
       "3                 Internet        Information Technology   \n",
       "4                       -1                            -1   \n",
       "\n",
       "                    Revenue  \n",
       "0  Unknown / Non-Applicable  \n",
       "1    $1 to $2 billion (USD)  \n",
       "2    $1 to $2 billion (USD)  \n",
       "3  Unknown / Non-Applicable  \n",
       "4                        -1  "
      ]
     },
     "execution_count": 8,
     "metadata": {},
     "output_type": "execute_result"
    }
   ],
   "source": [
    "df.head()"
   ]
  },
  {
   "cell_type": "markdown",
   "metadata": {},
   "source": [
    "Above you can see the five scaped job postings that relate to the search term, 'Data Scientist'.  This function was utilized by iterating over the list of our careers, and substituting the *keyword* for each one of our careers.  For every iteration, the resulting data frame was saved to an object and then written to an individual csv file, titled the respective career.  This was done intentionally, rather than just appending each new data frame to the last, to create one large data frame at the end of the scrape.  The former method was the efficient and robust to the code breaking at any point.  There were instances where the for-loop broke due to unforseen events.  However, because we chose to write each data frame for each career to it's own file, we were able to resume the for loop where it broke, rather than starting over completely.  "
   ]
  },
  {
   "cell_type": "markdown",
   "metadata": {},
   "source": [
    "After the conclusion of the entire scrape, we concatenated each data frame to each other, creating one large object. In total, our data frame contained 48,928 records, with 13 features.  These original features included:\n",
    "\n",
    "* Job Title - Title of the Job Posting on Glassdoor (E.g., Senior Data Scientist, Junior Dental Hygienist)\n",
    "* Salary Estimate - The Glassdoor provided average salary estimate based on previous employees in the same company and/or position who have reported their earnings to the platform. (E.g., Employer Provided Salary: $80K - $100K)\n",
    "* Job Description - A brief description of the job, responsibilities, and other need to know's that the company has chosen to share.\n",
    "* Company Rating - A float data type representing the company's average rating, on a scale from 1.0 to 5.0 (E.g., 3.7)\n",
    "* Company Name - The name of the company who is offering the job (E.g., Amazon.com Services LLC)\n",
    "* Location - The location of where the job is being offered (E.g., Sandy, TX)\n",
    "* Size - The size of the company as a whole. (E.g., 10000+ Employees)\n",
    "* Founded - The year the company was founded (E.g., 1994)\n",
    "* Type of Ownership - A string variable indicating if the company is public, private, school/university, government, etc. (E.g., Company - Public)\n",
    "* Industry - The industry the company is in (E.g., Internet)\n",
    "* Sector - The sector the company is in (E.g., Information Technology)\n",
    "* Revenue - The revenue the company earns each fiscal year (E.g., $10+ Billion)\n",
    "* Simplified Job Title - The career name that was used to scrape for that specific job posting\n",
    "\n",
    "You "
   ]
  },
  {
   "cell_type": "code",
   "execution_count": null,
   "metadata": {},
   "outputs": [],
   "source": []
  }
 ],
 "metadata": {
  "kernelspec": {
   "display_name": "Python 3",
   "language": "python",
   "name": "python3"
  },
  "language_info": {
   "codemirror_mode": {
    "name": "ipython",
    "version": 3
   },
   "file_extension": ".py",
   "mimetype": "text/x-python",
   "name": "python",
   "nbconvert_exporter": "python",
   "pygments_lexer": "ipython3",
   "version": "3.8.5"
  }
 },
 "nbformat": 4,
 "nbformat_minor": 4
}
